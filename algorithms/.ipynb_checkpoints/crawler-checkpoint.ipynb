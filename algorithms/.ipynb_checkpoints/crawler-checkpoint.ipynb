{
 "cells": [
  {
   "cell_type": "code",
   "execution_count": 69,
   "metadata": {
    "collapsed": false
   },
   "outputs": [],
   "source": [
    "# Retrieve all categories using namespace=14\n",
    "import requests\n",
    "import json\n",
    "subcategory_url = 'https://en.wikipedia.org/w/api.php?action=query&format=json&list=categorymembers&cmnamespace=14&cmlimit=500&cmtitle=Category:Algorithms'\n",
    "r = requests.get(subcategory_url)\n",
    "subcategories = json.loads(r.text)\n",
    "# print(subcategories)\n",
    "categorymembers = subcategories['query']['categorymembers']\n",
    "# print(categorymembers)"
   ]
  },
  {
   "cell_type": "code",
   "execution_count": 70,
   "metadata": {
    "collapsed": false,
    "scrolled": true
   },
   "outputs": [],
   "source": [
    "# Create links to follow to retrieve all algorithms within each category using namespace=0\n",
    "seed_url = 'https://en.wikipedia.org/w/api.php?action=query&format=json&list=categorymembers&cmnamespace=0&cmlimit=500&cmtitle='\n",
    "categories = []\n",
    "def build_url(catmems):\n",
    "    for catmem in catmems:\n",
    "        page = {}\n",
    "        page['Category'] = catmem['title'][9:]\n",
    "        url = seed_url + catmem['title']\n",
    "        page['URL'] = url\n",
    "        categories.append(page)\n",
    "        \n",
    "build_url(categorymembers)\n",
    "# print(categories)"
   ]
  },
  {
   "cell_type": "code",
   "execution_count": 71,
   "metadata": {
    "collapsed": false,
    "scrolled": true
   },
   "outputs": [],
   "source": [
    "# Downloading the entire web content\n",
    "def download_page(url):\n",
    "    try:\n",
    "        req = requests.get(url)\n",
    "        respData = json.loads(req.text)\n",
    "        return respData['query']['categorymembers']\n",
    "    except Exception as e:\n",
    "        print(str(e))\n",
    "\n",
    "# Get all algorithms for each category\n",
    "def get_algorithms(categories):\n",
    "    count = 0\n",
    "    for category in categories:\n",
    "        respData = download_page(category['URL'])\n",
    "        category['Algorithms'] = respData\n",
    "        count += len(respData)\n",
    "    return count\n",
    "number_of_algorithms = get_algorithms(categories)\n",
    "# print(number_of_algorithms, categories)"
   ]
  },
  {
   "cell_type": "code",
   "execution_count": 72,
   "metadata": {
    "collapsed": false
   },
   "outputs": [],
   "source": [
    "# Create abbreviations for algorithms with leading letters\n",
    "def create_abbreviations(line):\n",
    "    if len(line.split()) >= 2:\n",
    "        return ''.join(w[0].upper() for w in line.split())\n",
    "\n",
    "# Remove text within brackets and add abbreviation for each algorithm\n",
    "import re\n",
    "def remove_brackets_and_add_abbre(categories):\n",
    "    for category in categories:\n",
    "        for algorithm in category['Algorithms']:\n",
    "            if algorithm['title'][-1] == \")\":\n",
    "                algorithm['title'] = re.sub(\"[\\(\\[].*?[\\)\\]]\", \"\", algorithm['title'])\n",
    "            algorithm['abbreviation'] = create_abbreviations(algorithm['title'])\n",
    "          \n",
    "remove_brackets_and_add_abbre(categories)"
   ]
  },
  {
   "cell_type": "code",
   "execution_count": 73,
   "metadata": {
    "collapsed": false
   },
   "outputs": [],
   "source": [
    "# Write the final result to a json file\n",
    "result = {}\n",
    "result['categories'] = categories\n",
    "with open('categories.json', 'w') as outfile:\n",
    "    json.dump(result, outfile)"
   ]
  },
  {
   "cell_type": "code",
   "execution_count": 74,
   "metadata": {
    "collapsed": false
   },
   "outputs": [],
   "source": [
    "# import re\n",
    "# x = \"This is a sentence. (once a day)\"\n",
    "# answer = re.sub(\"[\\(\\[].*?[\\)\\]]\", \"\", x)\n",
    "# print(answer)"
   ]
  }
 ],
 "metadata": {
  "anaconda-cloud": {},
  "kernelspec": {
   "display_name": "Python [Root]",
   "language": "python",
   "name": "Python [Root]"
  },
  "language_info": {
   "codemirror_mode": {
    "name": "ipython",
    "version": 3
   },
   "file_extension": ".py",
   "mimetype": "text/x-python",
   "name": "python",
   "nbconvert_exporter": "python",
   "pygments_lexer": "ipython3",
   "version": "3.5.2"
  }
 },
 "nbformat": 4,
 "nbformat_minor": 0
}
